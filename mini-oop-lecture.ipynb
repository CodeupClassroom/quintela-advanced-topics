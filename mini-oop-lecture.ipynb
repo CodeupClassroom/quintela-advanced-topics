{
 "cells": [
  {
   "cell_type": "markdown",
   "id": "f4f7c8b9",
   "metadata": {},
   "source": [
    "# Mini Object Oriented Programming Lesson"
   ]
  },
  {
   "cell_type": "markdown",
   "id": "894744fe",
   "metadata": {},
   "source": [
    "## Procedural Programming"
   ]
  },
  {
   "cell_type": "code",
   "execution_count": 1,
   "id": "78c606ac",
   "metadata": {},
   "outputs": [],
   "source": [
    "x = 3"
   ]
  },
  {
   "cell_type": "code",
   "execution_count": 2,
   "id": "95873109",
   "metadata": {},
   "outputs": [],
   "source": [
    "y = 5"
   ]
  },
  {
   "cell_type": "code",
   "execution_count": 3,
   "id": "38040e95",
   "metadata": {},
   "outputs": [
    {
     "data": {
      "text/plain": [
       "8"
      ]
     },
     "execution_count": 3,
     "metadata": {},
     "output_type": "execute_result"
    }
   ],
   "source": [
    "x + y"
   ]
  },
  {
   "cell_type": "markdown",
   "id": "dad68b75",
   "metadata": {},
   "source": [
    "## Functional Programming"
   ]
  },
  {
   "cell_type": "code",
   "execution_count": 4,
   "id": "07fadac6",
   "metadata": {},
   "outputs": [],
   "source": [
    "def sayHello():\n",
    "    print('Hello World')"
   ]
  },
  {
   "cell_type": "code",
   "execution_count": 5,
   "id": "2fb6e192",
   "metadata": {},
   "outputs": [
    {
     "name": "stdout",
     "output_type": "stream",
     "text": [
      "Hello World\n"
     ]
    }
   ],
   "source": [
    "sayHello()"
   ]
  },
  {
   "cell_type": "markdown",
   "id": "175331fa",
   "metadata": {},
   "source": [
    "## How do we make Objects in Python?\n",
    "\n",
    "Quintela, let's handle this with `class`.\n",
    "![](https://media.giphy.com/media/147p93s2vFKsQU/giphy.gif)"
   ]
  },
  {
   "cell_type": "code",
   "execution_count": null,
   "id": "02427e4f",
   "metadata": {},
   "outputs": [],
   "source": []
  },
  {
   "cell_type": "code",
   "execution_count": null,
   "id": "8d98cf41",
   "metadata": {},
   "outputs": [],
   "source": []
  },
  {
   "cell_type": "code",
   "execution_count": null,
   "id": "d23ee6f7",
   "metadata": {},
   "outputs": [],
   "source": []
  },
  {
   "cell_type": "code",
   "execution_count": null,
   "id": "89340810",
   "metadata": {},
   "outputs": [],
   "source": []
  },
  {
   "cell_type": "code",
   "execution_count": null,
   "id": "7a134094",
   "metadata": {},
   "outputs": [],
   "source": []
  },
  {
   "cell_type": "code",
   "execution_count": null,
   "id": "3b9e7f84",
   "metadata": {},
   "outputs": [],
   "source": []
  },
  {
   "cell_type": "code",
   "execution_count": null,
   "id": "b48d2de7",
   "metadata": {},
   "outputs": [],
   "source": []
  },
  {
   "cell_type": "code",
   "execution_count": null,
   "id": "f183c5fc",
   "metadata": {},
   "outputs": [],
   "source": []
  },
  {
   "cell_type": "code",
   "execution_count": null,
   "id": "03d6b39d",
   "metadata": {},
   "outputs": [],
   "source": []
  },
  {
   "cell_type": "code",
   "execution_count": null,
   "id": "f462ea13",
   "metadata": {},
   "outputs": [],
   "source": []
  },
  {
   "cell_type": "code",
   "execution_count": null,
   "id": "cac3a869",
   "metadata": {},
   "outputs": [],
   "source": []
  },
  {
   "cell_type": "code",
   "execution_count": null,
   "id": "97f09189",
   "metadata": {},
   "outputs": [],
   "source": []
  },
  {
   "cell_type": "code",
   "execution_count": null,
   "id": "e8bd3596",
   "metadata": {},
   "outputs": [],
   "source": []
  },
  {
   "cell_type": "markdown",
   "id": "25f35bb8",
   "metadata": {},
   "source": [
    "## Basic Usage"
   ]
  },
  {
   "cell_type": "code",
   "execution_count": 6,
   "id": "2faf6c01",
   "metadata": {},
   "outputs": [],
   "source": [
    "#Define a class\n",
    "class MyClass:\n",
    "    #Define an attribute\n",
    "    x = 5\n",
    "    \n",
    "    #Define a method\n",
    "    def print_x(self):\n",
    "        print(self.x)"
   ]
  },
  {
   "cell_type": "code",
   "execution_count": 7,
   "id": "dcbf4a7f",
   "metadata": {},
   "outputs": [
    {
     "data": {
      "text/plain": [
       "5"
      ]
     },
     "execution_count": 7,
     "metadata": {},
     "output_type": "execute_result"
    }
   ],
   "source": [
    "MyClass().x"
   ]
  },
  {
   "cell_type": "code",
   "execution_count": 8,
   "id": "e3bf1a3f",
   "metadata": {},
   "outputs": [
    {
     "name": "stdout",
     "output_type": "stream",
     "text": [
      "5\n"
     ]
    }
   ],
   "source": [
    "MyClass().print_x()"
   ]
  },
  {
   "cell_type": "code",
   "execution_count": 9,
   "id": "9d7e13b7",
   "metadata": {},
   "outputs": [
    {
     "data": {
      "text/plain": [
       "int"
      ]
     },
     "execution_count": 9,
     "metadata": {},
     "output_type": "execute_result"
    }
   ],
   "source": [
    "type(MyClass().x)"
   ]
  },
  {
   "cell_type": "code",
   "execution_count": 10,
   "id": "8ef334e8",
   "metadata": {},
   "outputs": [
    {
     "name": "stdout",
     "output_type": "stream",
     "text": [
      "5\n"
     ]
    },
    {
     "data": {
      "text/plain": [
       "NoneType"
      ]
     },
     "execution_count": 10,
     "metadata": {},
     "output_type": "execute_result"
    }
   ],
   "source": [
    "type(MyClass().print_x())"
   ]
  },
  {
   "cell_type": "code",
   "execution_count": 11,
   "id": "3fb2bbf0",
   "metadata": {},
   "outputs": [
    {
     "name": "stdout",
     "output_type": "stream",
     "text": [
      "Hello\n"
     ]
    },
    {
     "data": {
      "text/plain": [
       "NoneType"
      ]
     },
     "execution_count": 11,
     "metadata": {},
     "output_type": "execute_result"
    }
   ],
   "source": [
    "type(print('Hello'))"
   ]
  },
  {
   "cell_type": "markdown",
   "id": "8d9d600b",
   "metadata": {},
   "source": [
    "## Why do I need Objects?\n",
    "\n",
    "Classes are necessary in Python because they provide a way to organize and structure code in an object-oriented manner. They allow developers to create complex software systems by breaking them down into smaller, more manageable components.\n",
    "\n",
    "Here are a few key reasons why classes are important in Python:\n",
    "\n",
    "* **Encapsulation**: Classes provide a way to encapsulate data and behavior together, which means that the internal state of an object can be protected from external access and modification. This helps to make the code more robust and less prone to bugs.\n",
    "\n",
    "\n",
    "* **Reusability**: Classes can be used to create multiple objects, and the same class can be used to create objects for different purposes. This makes code more reusable, and developers can use pre-existing classes to build new systems.\n",
    "\n",
    "\n",
    "* **Inheritance**: Classes in Python support inheritance, which allows developers to create new classes that inherit properties and behavior from existing classes. This reduces code duplication and makes it easier to extend and maintain existing code.\n",
    "\n",
    "\n",
    "* **Polymorphism**: Classes in Python support polymorphism, which allows objects of different classes to be treated as objects of a common base class. This makes it easy to write code that can work with objects of different classes, which can greatly simplify the design of large software systems.\n",
    "\n",
    "\n",
    "* **Abstraction**: Classes allow to abstract the implementation details of a certain functionality and expose only the necessary information to the external code, making the code more readable and maintainable.\n",
    "\n",
    "### Let's see how this works by writing code for a bank account\n",
    "\n",
    "#### Without `class`"
   ]
  },
  {
   "cell_type": "code",
   "execution_count": 12,
   "id": "eb93cf18",
   "metadata": {},
   "outputs": [],
   "source": [
    "ryans_bank_account_name = \"Ryan's Bank Account\"\n",
    "ryans_bank_account_balance = 1"
   ]
  },
  {
   "cell_type": "code",
   "execution_count": 13,
   "id": "d29a2826",
   "metadata": {},
   "outputs": [
    {
     "name": "stdout",
     "output_type": "stream",
     "text": [
      "Your balance is 1\n"
     ]
    }
   ],
   "source": [
    "print('Your balance is', ryans_bank_account_balance)"
   ]
  },
  {
   "cell_type": "code",
   "execution_count": 14,
   "id": "f9c96467",
   "metadata": {},
   "outputs": [],
   "source": [
    "ryans_bank_account_balance = ryans_bank_account_balance + 1000"
   ]
  },
  {
   "cell_type": "code",
   "execution_count": 15,
   "id": "deac6ecd",
   "metadata": {},
   "outputs": [
    {
     "name": "stdout",
     "output_type": "stream",
     "text": [
      "Your balance is 1001\n"
     ]
    }
   ],
   "source": [
    "print('Your balance is', ryans_bank_account_balance)"
   ]
  },
  {
   "cell_type": "markdown",
   "id": "9c30523c",
   "metadata": {},
   "source": [
    "#### with `class`"
   ]
  },
  {
   "cell_type": "code",
   "execution_count": 16,
   "id": "9070fe9a",
   "metadata": {},
   "outputs": [],
   "source": [
    "class BankAccount:\n",
    "    def __init__(self, name, balance=0.0):\n",
    "        self.name = name\n",
    "        self.balance = balance\n",
    "        \n",
    "    def deposit(self, amount):\n",
    "        self.balance += amount\n",
    "        print(f'Deposited {amount}, new balance is {self.balance}')\n",
    "        \n",
    "    def withdraw(self, amount):\n",
    "        if self.balance >= amount:\n",
    "            self.balance -= amount\n",
    "            print(f'Withdrew {amount}, new balance is {self.balance}')\n",
    "        else:\n",
    "            print(f'Insufficient balance, your current balance is {self.balance}')\n",
    "            \n",
    "    def display_balance(self):\n",
    "        print(f'Balance is {self.balance}')"
   ]
  },
  {
   "cell_type": "code",
   "execution_count": 17,
   "id": "82831347",
   "metadata": {},
   "outputs": [],
   "source": [
    "ryan_account = BankAccount(\"Ryan's Bank Account\", 1)"
   ]
  },
  {
   "cell_type": "code",
   "execution_count": 18,
   "id": "60c557ad",
   "metadata": {},
   "outputs": [
    {
     "data": {
      "text/plain": [
       "\"Ryan's Bank Account\""
      ]
     },
     "execution_count": 18,
     "metadata": {},
     "output_type": "execute_result"
    }
   ],
   "source": [
    "ryan_account.name"
   ]
  },
  {
   "cell_type": "code",
   "execution_count": 19,
   "id": "c7c563da",
   "metadata": {},
   "outputs": [
    {
     "data": {
      "text/plain": [
       "1"
      ]
     },
     "execution_count": 19,
     "metadata": {},
     "output_type": "execute_result"
    }
   ],
   "source": [
    "ryan_account.balance"
   ]
  },
  {
   "cell_type": "code",
   "execution_count": 20,
   "id": "331e765d",
   "metadata": {},
   "outputs": [
    {
     "name": "stdout",
     "output_type": "stream",
     "text": [
      "Deposited 1000, new balance is 1001\n"
     ]
    }
   ],
   "source": [
    "ryan_account.deposit(1000)"
   ]
  },
  {
   "cell_type": "code",
   "execution_count": 21,
   "id": "38d63123",
   "metadata": {},
   "outputs": [
    {
     "data": {
      "text/plain": [
       "1001"
      ]
     },
     "execution_count": 21,
     "metadata": {},
     "output_type": "execute_result"
    }
   ],
   "source": [
    "ryan_account.balance"
   ]
  },
  {
   "cell_type": "code",
   "execution_count": 22,
   "id": "2a3b564d",
   "metadata": {},
   "outputs": [],
   "source": [
    "scott_account = BankAccount(\"Scott's Bank Account\", 2000000)"
   ]
  },
  {
   "cell_type": "code",
   "execution_count": 23,
   "id": "f8c32b91",
   "metadata": {},
   "outputs": [
    {
     "data": {
      "text/plain": [
       "2000000"
      ]
     },
     "execution_count": 23,
     "metadata": {},
     "output_type": "execute_result"
    }
   ],
   "source": [
    "scott_account.balance"
   ]
  },
  {
   "cell_type": "code",
   "execution_count": 24,
   "id": "5dae5a10",
   "metadata": {},
   "outputs": [
    {
     "data": {
      "text/plain": [
       "1001"
      ]
     },
     "execution_count": 24,
     "metadata": {},
     "output_type": "execute_result"
    }
   ],
   "source": [
    "ryan_account.balance"
   ]
  },
  {
   "cell_type": "code",
   "execution_count": 25,
   "id": "aa441a12",
   "metadata": {},
   "outputs": [
    {
     "name": "stdout",
     "output_type": "stream",
     "text": [
      "Withdrew 1, new balance is 1000\n"
     ]
    }
   ],
   "source": [
    "ryan_account.withdraw(1)"
   ]
  },
  {
   "cell_type": "code",
   "execution_count": 26,
   "id": "b65b14d7",
   "metadata": {},
   "outputs": [
    {
     "data": {
      "text/plain": [
       "2000000"
      ]
     },
     "execution_count": 26,
     "metadata": {},
     "output_type": "execute_result"
    }
   ],
   "source": [
    "scott_account.balance"
   ]
  },
  {
   "cell_type": "code",
   "execution_count": 27,
   "id": "1594bff2",
   "metadata": {},
   "outputs": [
    {
     "name": "stdout",
     "output_type": "stream",
     "text": [
      "Insufficient balance, your current balance is 2000000\n"
     ]
    }
   ],
   "source": [
    "scott_account.withdraw(2000001)"
   ]
  },
  {
   "cell_type": "code",
   "execution_count": 28,
   "id": "c9c44208",
   "metadata": {},
   "outputs": [
    {
     "name": "stdout",
     "output_type": "stream",
     "text": [
      "Balance is 1000\n"
     ]
    }
   ],
   "source": [
    "ryan_account.display_balance()"
   ]
  },
  {
   "cell_type": "markdown",
   "id": "260e165d",
   "metadata": {},
   "source": [
    "### Reading Complicated Code"
   ]
  },
  {
   "cell_type": "code",
   "execution_count": 29,
   "id": "ea6a1e94",
   "metadata": {},
   "outputs": [],
   "source": [
    "import random\n",
    "\n",
    "class Character:\n",
    "    def __init__(self, name, race, char_class, hp, strength, dexterity, intelligence, wisdom, charisma):\n",
    "        self.name = name\n",
    "        self.race = race\n",
    "        self.char_class = char_class\n",
    "        self.hp = hp\n",
    "        self.strength = strength\n",
    "        self.dexterity = dexterity\n",
    "        self.intelligence = intelligence\n",
    "        self.wisdom = wisdom\n",
    "        self.charisma = charisma\n",
    "        \n",
    "    def attack(self, target):\n",
    "        roll = random.randint(1,20)\n",
    "        if roll >= 10:\n",
    "            target.hp -= self.strength\n",
    "            print(f'{self.name} hit {target.name} for {self.strength} damage!')\n",
    "        else:\n",
    "            print(f'{self.name} missed!')\n",
    "        \n",
    "    def cast_spell(self, spell_name, target):\n",
    "        if spell_name in self.spells:\n",
    "            if self.intelligence >= self.spells[spell_name]['intelligence_requirement']:\n",
    "                target.hp -= self.spells[spell_name]['damage']\n",
    "                print(f\"{self.name} casts {spell_name} and deals {self.spells[spell_name]['damage']} damage to {target.name}\")\n",
    "            else:\n",
    "                print(f'{self.name} does not have the intelligence required to cast {spell_name}')\n",
    "        else:\n",
    "            print(f'{self.name} does not know the spell {spell_name}')\n",
    "\n",
    "class Wizard(Character):\n",
    "    def __init__(self, name, hp, strength, dexterity, intelligence, wisdom, charisma):\n",
    "        super().__init__(name, 'Human', 'Wizard', hp, strength, dexterity, intelligence, wisdom, charisma)\n",
    "        self.spells = {\n",
    "            'Fireball': {'damage': 20, 'intelligence_requirement': 15},\n",
    "            'Lightning Bolt': {'damage': 10, 'intelligence_requirement': 10},\n",
    "            'Magic Missile': {'damage': 5, 'intelligence_requirement': 5}\n",
    "        }\n",
    "\n",
    "class Warrior(Character):\n",
    "    def __init__(self, name, hp, strength, dexterity, intelligence, wisdom, charisma):\n",
    "        super().__init__(name, 'Human', 'Warrior', hp, strength, dexterity, intelligence, wisdom, charisma)\n",
    "        \n",
    "class Cleric(Character):\n",
    "    def __init__(self, name, hp, strength, dexterity, intelligence, wisdom, charisma):\n",
    "        super().__init__(name, 'Human', 'Cleric', hp, strength, dexterity, intelligence, wisdom, charisma)\n",
    "        self.spells = {\n",
    "            'Heal': {'damage': -20, 'intelligence_requirement': 10},\n",
    "            'Bless': {'damage': 5, 'intelligence_requirement': 5}\n",
    "        }\n",
    "\n",
    "wizard1 = Wizard(\"Gandalf\", 50, 5, 5, 20, 10, 15)\n",
    "warrior1 = Warrior(\"Conan\", 80, 20, 15, 10, 10, 5)\n",
    "cleric1 = Cleric(\"Aelithar\", 60, 15, 10, 10, 15, 10)"
   ]
  },
  {
   "cell_type": "code",
   "execution_count": 30,
   "id": "f754ea1a",
   "metadata": {},
   "outputs": [
    {
     "name": "stdout",
     "output_type": "stream",
     "text": [
      "Gandalf casts Fireball and deals 20 damage to Conan\n"
     ]
    }
   ],
   "source": [
    "wizard1.cast_spell('Fireball', warrior1)"
   ]
  },
  {
   "cell_type": "code",
   "execution_count": 31,
   "id": "64600c67",
   "metadata": {},
   "outputs": [
    {
     "name": "stdout",
     "output_type": "stream",
     "text": [
      "Conan hit Gandalf for 20 damage!\n"
     ]
    }
   ],
   "source": [
    "warrior1.attack(wizard1)"
   ]
  },
  {
   "cell_type": "code",
   "execution_count": 32,
   "id": "4c320928",
   "metadata": {},
   "outputs": [
    {
     "data": {
      "text/plain": [
       "30"
      ]
     },
     "execution_count": 32,
     "metadata": {},
     "output_type": "execute_result"
    }
   ],
   "source": [
    "wizard1.hp"
   ]
  },
  {
   "cell_type": "code",
   "execution_count": 33,
   "id": "3d26a82c",
   "metadata": {},
   "outputs": [
    {
     "data": {
      "text/plain": [
       "60"
      ]
     },
     "execution_count": 33,
     "metadata": {},
     "output_type": "execute_result"
    }
   ],
   "source": [
    "warrior1.hp"
   ]
  },
  {
   "cell_type": "code",
   "execution_count": 34,
   "id": "8ca5f4e5",
   "metadata": {},
   "outputs": [
    {
     "name": "stdout",
     "output_type": "stream",
     "text": [
      "Aelithar casts Heal and deals -20 damage to Conan\n"
     ]
    }
   ],
   "source": [
    "cleric1.cast_spell('Heal', warrior1)"
   ]
  },
  {
   "cell_type": "code",
   "execution_count": 35,
   "id": "3352cf42",
   "metadata": {},
   "outputs": [
    {
     "data": {
      "text/plain": [
       "80"
      ]
     },
     "execution_count": 35,
     "metadata": {},
     "output_type": "execute_result"
    }
   ],
   "source": [
    "warrior1.hp"
   ]
  },
  {
   "cell_type": "markdown",
   "id": "208e6d9c",
   "metadata": {},
   "source": [
    "# Create a Library"
   ]
  },
  {
   "cell_type": "markdown",
   "id": "f84b25a5",
   "metadata": {},
   "source": [
    "## First we need books"
   ]
  },
  {
   "cell_type": "code",
   "execution_count": 36,
   "id": "fe9a7359",
   "metadata": {},
   "outputs": [],
   "source": [
    "class Book:\n",
    "    def __init__(self, title, author, isbn):\n",
    "        self.title = title\n",
    "        self.author = author\n",
    "        self.isbn = isbn\n",
    "        self.available = True\n",
    "        \n",
    "    def checkout(self):\n",
    "        if self.available:\n",
    "            self.available = False\n",
    "            print(f\"Book '{self.title}' has been checked out.\")\n",
    "        else:\n",
    "            print(f\"Book '{self.title}' is not available for checkout.\")\n",
    "            \n",
    "    def checkin(self):\n",
    "        if not self.available:\n",
    "            self.available = True\n",
    "            print(f\"Book '{self.title}' has been checked in.\")\n",
    "        else:\n",
    "            print(f\"Book '{self.title}' is already available.\")"
   ]
  },
  {
   "cell_type": "code",
   "execution_count": 37,
   "id": "f46bdbad",
   "metadata": {},
   "outputs": [],
   "source": [
    "book = Book(\"Ryan's Time with Quintela\", 'Ryan McCall', \"1234567890\")"
   ]
  },
  {
   "cell_type": "code",
   "execution_count": 38,
   "id": "6b7f4bb6",
   "metadata": {},
   "outputs": [
    {
     "data": {
      "text/plain": [
       "\"Ryan's Time with Quintela\""
      ]
     },
     "execution_count": 38,
     "metadata": {},
     "output_type": "execute_result"
    }
   ],
   "source": [
    "book.title"
   ]
  },
  {
   "cell_type": "code",
   "execution_count": 39,
   "id": "a8409801",
   "metadata": {},
   "outputs": [
    {
     "data": {
      "text/plain": [
       "'Ryan McCall'"
      ]
     },
     "execution_count": 39,
     "metadata": {},
     "output_type": "execute_result"
    }
   ],
   "source": [
    "book.author"
   ]
  },
  {
   "cell_type": "code",
   "execution_count": 40,
   "id": "090e15e0",
   "metadata": {},
   "outputs": [
    {
     "data": {
      "text/plain": [
       "'1234567890'"
      ]
     },
     "execution_count": 40,
     "metadata": {},
     "output_type": "execute_result"
    }
   ],
   "source": [
    "book.isbn"
   ]
  },
  {
   "cell_type": "code",
   "execution_count": 41,
   "id": "baba9caa",
   "metadata": {},
   "outputs": [
    {
     "data": {
      "text/plain": [
       "True"
      ]
     },
     "execution_count": 41,
     "metadata": {},
     "output_type": "execute_result"
    }
   ],
   "source": [
    "book.available"
   ]
  },
  {
   "cell_type": "code",
   "execution_count": 42,
   "id": "3d9b4dc6",
   "metadata": {},
   "outputs": [
    {
     "name": "stdout",
     "output_type": "stream",
     "text": [
      "Book 'Ryan's Time with Quintela' has been checked out.\n"
     ]
    }
   ],
   "source": [
    "book.checkout()"
   ]
  },
  {
   "cell_type": "code",
   "execution_count": 43,
   "id": "d4182fee",
   "metadata": {},
   "outputs": [
    {
     "data": {
      "text/plain": [
       "False"
      ]
     },
     "execution_count": 43,
     "metadata": {},
     "output_type": "execute_result"
    }
   ],
   "source": [
    "book.available"
   ]
  },
  {
   "cell_type": "code",
   "execution_count": 44,
   "id": "cdf0107c",
   "metadata": {},
   "outputs": [
    {
     "name": "stdout",
     "output_type": "stream",
     "text": [
      "Book 'Ryan's Time with Quintela' is not available for checkout.\n"
     ]
    }
   ],
   "source": [
    "book.checkout()"
   ]
  },
  {
   "cell_type": "code",
   "execution_count": 45,
   "id": "a1f26386",
   "metadata": {},
   "outputs": [
    {
     "name": "stdout",
     "output_type": "stream",
     "text": [
      "Book 'Ryan's Time with Quintela' has been checked in.\n"
     ]
    }
   ],
   "source": [
    "book.checkin()"
   ]
  },
  {
   "cell_type": "code",
   "execution_count": 46,
   "id": "6c576f66",
   "metadata": {},
   "outputs": [
    {
     "name": "stdout",
     "output_type": "stream",
     "text": [
      "Book 'Ryan's Time with Quintela' is already available.\n"
     ]
    }
   ],
   "source": [
    "book.checkin()"
   ]
  },
  {
   "cell_type": "code",
   "execution_count": 47,
   "id": "e6bc4a15",
   "metadata": {},
   "outputs": [
    {
     "data": {
      "text/plain": [
       "True"
      ]
     },
     "execution_count": 47,
     "metadata": {},
     "output_type": "execute_result"
    }
   ],
   "source": [
    "book.available"
   ]
  },
  {
   "cell_type": "markdown",
   "id": "160e6aa0",
   "metadata": {},
   "source": [
    "## Now we can make the Library"
   ]
  },
  {
   "cell_type": "code",
   "execution_count": 48,
   "id": "70641245",
   "metadata": {},
   "outputs": [],
   "source": [
    "class Library:\n",
    "    def __init__(self):\n",
    "        self.books = []\n",
    "        \n",
    "    def add_book(self, book):\n",
    "        self.books.append(book)\n",
    "        \n",
    "    def show_available_books(self):\n",
    "        available_books = [book.title for book in self.books if book.available]\n",
    "        \n",
    "        if available_books:\n",
    "            print(\"Available books:\")\n",
    "            for title in available_books:\n",
    "                print(\"- \" + title)\n",
    "        else:\n",
    "            print(\"No books available.\")"
   ]
  },
  {
   "cell_type": "code",
   "execution_count": 49,
   "id": "e1e0fabd",
   "metadata": {},
   "outputs": [],
   "source": [
    "library = Library()"
   ]
  },
  {
   "cell_type": "code",
   "execution_count": 50,
   "id": "04f5fa67",
   "metadata": {},
   "outputs": [
    {
     "data": {
      "text/plain": [
       "[]"
      ]
     },
     "execution_count": 50,
     "metadata": {},
     "output_type": "execute_result"
    }
   ],
   "source": [
    "library.books"
   ]
  },
  {
   "cell_type": "code",
   "execution_count": 51,
   "id": "4788e2e9",
   "metadata": {},
   "outputs": [],
   "source": [
    "library.add_book(book)"
   ]
  },
  {
   "cell_type": "code",
   "execution_count": 52,
   "id": "65704634",
   "metadata": {},
   "outputs": [
    {
     "data": {
      "text/plain": [
       "[<__main__.Book at 0x1058a0e20>]"
      ]
     },
     "execution_count": 52,
     "metadata": {},
     "output_type": "execute_result"
    }
   ],
   "source": [
    "library.books"
   ]
  },
  {
   "cell_type": "code",
   "execution_count": 53,
   "id": "601319c7",
   "metadata": {},
   "outputs": [
    {
     "name": "stdout",
     "output_type": "stream",
     "text": [
      "Available books:\n",
      "- Ryan's Time with Quintela\n"
     ]
    }
   ],
   "source": [
    "library.show_available_books()"
   ]
  },
  {
   "cell_type": "code",
   "execution_count": 54,
   "id": "be25a91f",
   "metadata": {},
   "outputs": [
    {
     "data": {
      "text/plain": [
       "\"Ryan's Time with Quintela\""
      ]
     },
     "execution_count": 54,
     "metadata": {},
     "output_type": "execute_result"
    }
   ],
   "source": [
    "library.books[0].title"
   ]
  },
  {
   "cell_type": "markdown",
   "id": "3250db7f",
   "metadata": {},
   "source": [
    "## Bring in object with import"
   ]
  },
  {
   "cell_type": "code",
   "execution_count": 55,
   "id": "795342e5",
   "metadata": {},
   "outputs": [],
   "source": [
    "import library"
   ]
  },
  {
   "cell_type": "code",
   "execution_count": 56,
   "id": "2cdcf6f5",
   "metadata": {},
   "outputs": [],
   "source": [
    "library1 = library.Library()"
   ]
  },
  {
   "cell_type": "code",
   "execution_count": 57,
   "id": "f7b28420",
   "metadata": {},
   "outputs": [
    {
     "name": "stdout",
     "output_type": "stream",
     "text": [
      "No books available.\n"
     ]
    }
   ],
   "source": [
    "library1.show_available_books()"
   ]
  },
  {
   "cell_type": "code",
   "execution_count": 58,
   "id": "7375168d",
   "metadata": {},
   "outputs": [],
   "source": [
    "book1 = library.Book(\"Introduction to Python\", \"John Smith\", \"9781234567890\")\n",
    "book2 = library.Book(\"Data Structures and Algorithms\", \"Jane Doe\", \"9789876543210\")\n",
    "book3 = library.Book(\"Web Development Basics\", \"Alex Johnson\", \"9785432109876\")"
   ]
  },
  {
   "cell_type": "code",
   "execution_count": 59,
   "id": "7b49b343",
   "metadata": {},
   "outputs": [],
   "source": [
    "library1.add_book(book1)\n",
    "library1.add_book(book2)\n",
    "library1.add_book(book3)"
   ]
  },
  {
   "cell_type": "code",
   "execution_count": 60,
   "id": "d8642497",
   "metadata": {},
   "outputs": [
    {
     "name": "stdout",
     "output_type": "stream",
     "text": [
      "Available books:\n",
      "- Introduction to Python\n",
      "- Data Structures and Algorithms\n",
      "- Web Development Basics\n"
     ]
    }
   ],
   "source": [
    "library1.show_available_books()"
   ]
  },
  {
   "cell_type": "code",
   "execution_count": 61,
   "id": "ed1177a5",
   "metadata": {},
   "outputs": [
    {
     "name": "stdout",
     "output_type": "stream",
     "text": [
      "Book 'Introduction to Python' has been checked out.\n"
     ]
    }
   ],
   "source": [
    "book1.checkout()"
   ]
  },
  {
   "cell_type": "code",
   "execution_count": 62,
   "id": "6d26c738",
   "metadata": {},
   "outputs": [
    {
     "name": "stdout",
     "output_type": "stream",
     "text": [
      "Available books:\n",
      "- Data Structures and Algorithms\n",
      "- Web Development Basics\n"
     ]
    }
   ],
   "source": [
    "library1.show_available_books()"
   ]
  },
  {
   "cell_type": "code",
   "execution_count": 63,
   "id": "2094126d",
   "metadata": {},
   "outputs": [
    {
     "name": "stdout",
     "output_type": "stream",
     "text": [
      "Book 'Data Structures and Algorithms' has been checked out.\n"
     ]
    }
   ],
   "source": [
    "book2.checkout()"
   ]
  },
  {
   "cell_type": "code",
   "execution_count": 64,
   "id": "a8972015",
   "metadata": {},
   "outputs": [
    {
     "name": "stdout",
     "output_type": "stream",
     "text": [
      "Available books:\n",
      "- Web Development Basics\n"
     ]
    }
   ],
   "source": [
    "library1.show_available_books()"
   ]
  },
  {
   "cell_type": "code",
   "execution_count": 65,
   "id": "e785b45d",
   "metadata": {},
   "outputs": [
    {
     "name": "stdout",
     "output_type": "stream",
     "text": [
      "Book 'Data Structures and Algorithms' has been checked in.\n"
     ]
    }
   ],
   "source": [
    "book2.checkin()"
   ]
  },
  {
   "cell_type": "code",
   "execution_count": 66,
   "id": "a451698d",
   "metadata": {},
   "outputs": [
    {
     "name": "stdout",
     "output_type": "stream",
     "text": [
      "Available books:\n",
      "- Data Structures and Algorithms\n",
      "- Web Development Basics\n"
     ]
    }
   ],
   "source": [
    "library1.show_available_books()"
   ]
  }
 ],
 "metadata": {
  "kernelspec": {
   "display_name": "Python 3 (ipykernel)",
   "language": "python",
   "name": "python3"
  },
  "language_info": {
   "codemirror_mode": {
    "name": "ipython",
    "version": 3
   },
   "file_extension": ".py",
   "mimetype": "text/x-python",
   "name": "python",
   "nbconvert_exporter": "python",
   "pygments_lexer": "ipython3",
   "version": "3.9.12"
  }
 },
 "nbformat": 4,
 "nbformat_minor": 5
}
